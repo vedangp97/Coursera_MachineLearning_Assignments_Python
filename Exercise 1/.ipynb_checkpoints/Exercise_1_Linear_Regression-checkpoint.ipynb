{
 "cells": [
  {
   "cell_type": "markdown",
   "metadata": {},
   "source": [
    "<h3> Simple Linear Regression"
   ]
  },
  {
   "cell_type": "code",
   "execution_count": 1,
   "metadata": {},
   "outputs": [
    {
     "name": "stderr",
     "output_type": "stream",
     "text": [
      "In /home/vedangp/.local/lib/python3.6/site-packages/matplotlib/mpl-data/stylelib/_classic_test.mplstyle: \n",
      "The savefig.frameon rcparam was deprecated in Matplotlib 3.1 and will be removed in 3.3.\n",
      "In /home/vedangp/.local/lib/python3.6/site-packages/matplotlib/mpl-data/stylelib/_classic_test.mplstyle: \n",
      "The verbose.level rcparam was deprecated in Matplotlib 3.1 and will be removed in 3.3.\n",
      "In /home/vedangp/.local/lib/python3.6/site-packages/matplotlib/mpl-data/stylelib/_classic_test.mplstyle: \n",
      "The verbose.fileo rcparam was deprecated in Matplotlib 3.1 and will be removed in 3.3.\n"
     ]
    }
   ],
   "source": [
    "import numpy as np\n",
    "import pandas as pd\n",
    "import matplotlib.pyplot as plt"
   ]
  },
  {
   "cell_type": "code",
   "execution_count": 2,
   "metadata": {},
   "outputs": [],
   "source": [
    "#Loading the data into a pandas dataframe\n",
    "data = pd.read_csv('machine-learning-ex1/ex1/ex1data1.txt', header = None)\n",
    "X = data.iloc[:,0]    # Read the first column into X\n",
    "y = data.iloc[:,1]    # Read the second column into y\n",
    "m = len(y)"
   ]
  },
  {
   "cell_type": "code",
   "execution_count": 3,
   "metadata": {},
   "outputs": [
    {
     "data": {
      "image/png": "[encoded data removed]",
      "text/plain": [
       "<Figure size 432x288 with 1 Axes>"
      ]
     },
     "metadata": {
      "needs_background": "light"
     },
     "output_type": "display_data"
    }
   ],
   "source": [
    "plt.scatter(X, y)\n",
    "plt.xlabel('Population of City in 10,000s')\n",
    "plt.ylabel('Profit in $10,000s')\n",
    "plt.show()"
   ]
  },
  {
   "cell_type": "code",
   "execution_count": 4,
   "metadata": {},
   "outputs": [],
   "source": [
    "X = X[:,np.newaxis]\n",
    "y = y[:,np.newaxis]\n",
    "theta = np.zeros([2,1])\n",
    "iterations = 1500\n",
    "alpha = 0.01\n",
    "ones = np.ones((m,1))\n",
    "X = np.hstack((ones, X)) # adding the intercept term"
   ]
  },
  {
   "cell_type": "code",
   "execution_count": 5,
   "metadata": {
    "collapsed": true
   },
   "outputs": [
    {
     "data": {
      "text/plain": [
       "array([[ 1.    ,  6.1101],\n",
       "       [ 1.    ,  5.5277],\n",
       "       [ 1.    ,  8.5186],\n",
       "       [ 1.    ,  7.0032],\n",
       "       [ 1.    ,  5.8598],\n",
       "       [ 1.    ,  8.3829],\n",
       "       [ 1.    ,  7.4764],\n",
       "       [ 1.    ,  8.5781],\n",
       "       [ 1.    ,  6.4862],\n",
       "       [ 1.    ,  5.0546],\n",
       "       [ 1.    ,  5.7107],\n",
       "       [ 1.    , 14.164 ],\n",
       "       [ 1.    ,  5.734 ],\n",
       "       [ 1.    ,  8.4084],\n",
       "       [ 1.    ,  5.6407],\n",
       "       [ 1.    ,  5.3794],\n",
       "       [ 1.    ,  6.3654],\n",
       "       [ 1.    ,  5.1301],\n",
       "       [ 1.    ,  6.4296],\n",
       "       [ 1.    ,  7.0708],\n",
       "       [ 1.    ,  6.1891],\n",
       "       [ 1.    , 20.27  ],\n",
       "       [ 1.    ,  5.4901],\n",
       "       [ 1.    ,  6.3261],\n",
       "       [ 1.    ,  5.5649],\n",
       "       [ 1.    , 18.945 ],\n",
       "       [ 1.    , 12.828 ],\n",
       "       [ 1.    , 10.957 ],\n",
       "       [ 1.    , 13.176 ],\n",
       "       [ 1.    , 22.203 ],\n",
       "       [ 1.    ,  5.2524],\n",
       "       [ 1.    ,  6.5894],\n",
       "       [ 1.    ,  9.2482],\n",
       "       [ 1.    ,  5.8918],\n",
       "       [ 1.    ,  8.2111],\n",
       "       [ 1.    ,  7.9334],\n",
       "       [ 1.    ,  8.0959],\n",
       "       [ 1.    ,  5.6063],\n",
       "       [ 1.    , 12.836 ],\n",
       "       [ 1.    ,  6.3534],\n",
       "       [ 1.    ,  5.4069],\n",
       "       [ 1.    ,  6.8825],\n",
       "       [ 1.    , 11.708 ],\n",
       "       [ 1.    ,  5.7737],\n",
       "       [ 1.    ,  7.8247],\n",
       "       [ 1.    ,  7.0931],\n",
       "       [ 1.    ,  5.0702],\n",
       "       [ 1.    ,  5.8014],\n",
       "       [ 1.    , 11.7   ],\n",
       "       [ 1.    ,  5.5416],\n",
       "       [ 1.    ,  7.5402],\n",
       "       [ 1.    ,  5.3077],\n",
       "       [ 1.    ,  7.4239],\n",
       "       [ 1.    ,  7.6031],\n",
       "       [ 1.    ,  6.3328],\n",
       "       [ 1.    ,  6.3589],\n",
       "       [ 1.    ,  6.2742],\n",
       "       [ 1.    ,  5.6397],\n",
       "       [ 1.    ,  9.3102],\n",
       "       [ 1.    ,  9.4536],\n",
       "       [ 1.    ,  8.8254],\n",
       "       [ 1.    ,  5.1793],\n",
       "       [ 1.    , 21.279 ],\n",
       "       [ 1.    , 14.908 ],\n",
       "       [ 1.    , 18.959 ],\n",
       "       [ 1.    ,  7.2182],\n",
       "       [ 1.    ,  8.2951],\n",
       "       [ 1.    , 10.236 ],\n",
       "       [ 1.    ,  5.4994],\n",
       "       [ 1.    , 20.341 ],\n",
       "       [ 1.    , 10.136 ],\n",
       "       [ 1.    ,  7.3345],\n",
       "       [ 1.    ,  6.0062],\n",
       "       [ 1.    ,  7.2259],\n",
       "       [ 1.    ,  5.0269],\n",
       "       [ 1.    ,  6.5479],\n",
       "       [ 1.    ,  7.5386],\n",
       "       [ 1.    ,  5.0365],\n",
       "       [ 1.    , 10.274 ],\n",
       "       [ 1.    ,  5.1077],\n",
       "       [ 1.    ,  5.7292],\n",
       "       [ 1.    ,  5.1884],\n",
       "       [ 1.    ,  6.3557],\n",
       "       [ 1.    ,  9.7687],\n",
       "       [ 1.    ,  6.5159],\n",
       "       [ 1.    ,  8.5172],\n",
       "       [ 1.    ,  9.1802],\n",
       "       [ 1.    ,  6.002 ],\n",
       "       [ 1.    ,  5.5204],\n",
       "       [ 1.    ,  5.0594],\n",
       "       [ 1.    ,  5.7077],\n",
       "       [ 1.    ,  7.6366],\n",
       "       [ 1.    ,  5.8707],\n",
       "       [ 1.    ,  5.3054],\n",
       "       [ 1.    ,  8.2934],\n",
       "       [ 1.    , 13.394 ],\n",
       "       [ 1.    ,  5.4369]])"
      ]
     },
     "execution_count": 5,
     "metadata": {},
     "output_type": "execute_result"
    }
   ],
   "source": [
    "X"
   ]
  },
  {
   "cell_type": "code",
   "execution_count": 6,
   "metadata": {},
   "outputs": [
    {
     "name": "stdout",
     "output_type": "stream",
     "text": [
      "32.072733877455676\n"
     ]
    }
   ],
   "source": [
    "def computeCost(X, y, theta):\n",
    "    temp = np.dot(X, theta) - y               # Difference between predicted value and actual value\n",
    "    return np.sum(np.power(temp, 2)) / (2*m)  # Mean Sum of squares for all data\n",
    "\n",
    "J = costFunction(X, y, theta)\n",
    "print(J)"
   ]
  },
  {
   "cell_type": "code",
   "execution_count": 7,
   "metadata": {},
   "outputs": [
    {
     "name": "stdout",
     "output_type": "stream",
     "text": [
      "[[-3.63029144]\n",
      " [ 1.16636235]]\n"
     ]
    }
   ],
   "source": [
    "def gradientDescent(X, y, theta, alpha, iterations):\n",
    "    for _ in range(iterations):\n",
    "        temp = np.dot(X, theta) - y\n",
    "        temp = np.dot(X.T, temp)\n",
    "        theta = theta - (alpha/m) * temp\n",
    "    return theta\n",
    "\n",
    "theta = gradientDescent(X, y, theta, alpha, iterations)\n",
    "print(theta)"
   ]
  },
  {
   "cell_type": "code",
   "execution_count": 8,
   "metadata": {},
   "outputs": [
    {
     "ename": "NameError",
     "evalue": "name 'computeCost' is not defined",
     "output_type": "error",
     "traceback": [
      "\u001b[0;31m---------------------------------------------------------------------------\u001b[0m",
      "\u001b[0;31mNameError\u001b[0m                                 Traceback (most recent call last)",
      "\u001b[0;32m<ipython-input-8-ba6ef42ce2f1>\u001b[0m in \u001b[0;36m<module>\u001b[0;34m\u001b[0m\n\u001b[0;32m----> 1\u001b[0;31m \u001b[0mJ\u001b[0m \u001b[0;34m=\u001b[0m \u001b[0mcomputeCost\u001b[0m\u001b[0;34m(\u001b[0m\u001b[0mX\u001b[0m\u001b[0;34m,\u001b[0m \u001b[0my\u001b[0m\u001b[0;34m,\u001b[0m \u001b[0mtheta\u001b[0m\u001b[0;34m)\u001b[0m\u001b[0;34m\u001b[0m\u001b[0;34m\u001b[0m\u001b[0m\n\u001b[0m\u001b[1;32m      2\u001b[0m \u001b[0mprint\u001b[0m\u001b[0;34m(\u001b[0m\u001b[0mJ\u001b[0m\u001b[0;34m)\u001b[0m\u001b[0;34m\u001b[0m\u001b[0;34m\u001b[0m\u001b[0m\n",
      "\u001b[0;31mNameError\u001b[0m: name 'computeCost' is not defined"
     ]
    }
   ],
   "source": [
    "J = computeCost(X, y, theta)\n",
    "print(J)"
   ]
  },
  {
   "cell_type": "code",
   "execution_count": null,
   "metadata": {},
   "outputs": [],
   "source": [
    "plt.scatter(X[:,1], y)\n",
    "plt.xlabel('Population of City in 10,000s')\n",
    "plt.ylabel('Profit in $10,000s')\n",
    "plt.plot(X[:,1], np.dot(X, theta))\n",
    "plt.show()"
   ]
  },
  {
   "cell_type": "code",
   "execution_count": null,
   "metadata": {},
   "outputs": [],
   "source": []
  },
  {
   "cell_type": "markdown",
   "metadata": {},
   "source": [
    "<h3> Multiple LInear Regression"
   ]
  },
  {
   "cell_type": "code",
   "execution_count": 16,
   "metadata": {},
   "outputs": [
    {
     "data": {
      "text/html": [
       "<div>\n",
       "<style scoped>\n",
       "    .dataframe tbody tr th:only-of-type {\n",
       "        vertical-align: middle;\n",
       "    }\n",
       "\n",
       "    .dataframe tbody tr th {\n",
       "        vertical-align: top;\n",
       "    }\n",
       "\n",
       "    .dataframe thead th {\n",
       "        text-align: right;\n",
       "    }\n",
       "</style>\n",
       "<table border=\"1\" class=\"dataframe\">\n",
       "  <thead>\n",
       "    <tr style=\"text-align: right;\">\n",
       "      <th></th>\n",
       "      <th>0</th>\n",
       "      <th>1</th>\n",
       "      <th>2</th>\n",
       "    </tr>\n",
       "  </thead>\n",
       "  <tbody>\n",
       "    <tr>\n",
       "      <th>0</th>\n",
       "      <td>2104</td>\n",
       "      <td>3</td>\n",
       "      <td>399900</td>\n",
       "    </tr>\n",
       "    <tr>\n",
       "      <th>1</th>\n",
       "      <td>1600</td>\n",
       "      <td>3</td>\n",
       "      <td>329900</td>\n",
       "    </tr>\n",
       "    <tr>\n",
       "      <th>2</th>\n",
       "      <td>2400</td>\n",
       "      <td>3</td>\n",
       "      <td>369000</td>\n",
       "    </tr>\n",
       "    <tr>\n",
       "      <th>3</th>\n",
       "      <td>1416</td>\n",
       "      <td>2</td>\n",
       "      <td>232000</td>\n",
       "    </tr>\n",
       "    <tr>\n",
       "      <th>4</th>\n",
       "      <td>3000</td>\n",
       "      <td>4</td>\n",
       "      <td>539900</td>\n",
       "    </tr>\n",
       "  </tbody>\n",
       "</table>\n",
       "</div>"
      ],
      "text/plain": [
       "      0  1       2\n",
       "0  2104  3  399900\n",
       "1  1600  3  329900\n",
       "2  2400  3  369000\n",
       "3  1416  2  232000\n",
       "4  3000  4  539900"
      ]
     },
     "execution_count": 16,
     "metadata": {},
     "output_type": "execute_result"
    }
   ],
   "source": [
    "data = pd.read_csv('machine-learning-ex1/ex1/ex1data2.txt', header = None)\n",
    "X = data.iloc[:,0:2]    # Read first two columns into X\n",
    "y = data.iloc[:,2]      # Read the third column into y\n",
    "m = len(y)              # No. of training samples\n",
    "data.head()"
   ]
  },
  {
   "cell_type": "code",
   "execution_count": 17,
   "metadata": {},
   "outputs": [],
   "source": [
    "X = (X - np.mean(X))/np.std(X)   # Feature scaling (Z-score Normalization)"
   ]
  },
  {
   "cell_type": "code",
   "execution_count": 18,
   "metadata": {},
   "outputs": [],
   "source": [
    "ones = np.ones((m,1))\n",
    "X = np.hstack((ones, X))\n",
    "alpha = 0.01\n",
    "num_iters = 400\n",
    "theta = np.zeros((3,1))\n",
    "y = y[:,np.newaxis]"
   ]
  },
  {
   "cell_type": "code",
   "execution_count": 21,
   "metadata": {},
   "outputs": [
    {
     "name": "stdout",
     "output_type": "stream",
     "text": [
      "65591548106.45744\n"
     ]
    }
   ],
   "source": [
    "def computeMultiCost(X, y, theta):\n",
    "    temp = np.dot(X, theta) - y\n",
    "    return np.sum(np.power(temp, 2)) / (2*m)\n",
    "\n",
    "J = computeMultiCost(X, y, theta)\n",
    "print(J)"
   ]
  },
  {
   "cell_type": "code",
   "execution_count": 22,
   "metadata": {},
   "outputs": [
    {
     "name": "stdout",
     "output_type": "stream",
     "text": [
      "[[334302.06399328]\n",
      " [ 99411.44947359]\n",
      " [  3267.01285407]]\n"
     ]
    }
   ],
   "source": [
    "def gradientDescentMulti(X, y, theta, alpha, iterations):\n",
    "    m = len(y)\n",
    "    for _ in range(iterations):\n",
    "        temp = np.dot(X, theta) - y\n",
    "        temp = np.dot(X.T, temp)\n",
    "        theta = theta - (alpha/m) * temp\n",
    "    return theta\n",
    "\n",
    "theta = gradientDescentMulti(X, y, theta, alpha, num_iters)\n",
    "print(theta)"
   ]
  },
  {
   "cell_type": "code",
   "execution_count": 25,
   "metadata": {},
   "outputs": [
    {
     "name": "stdout",
     "output_type": "stream",
     "text": [
      "2105448288.6292474\n"
     ]
    }
   ],
   "source": [
    "J = computeMultiCost(X, y, theta)\n",
    "print(J)"
   ]
  },
  {
   "cell_type": "code",
   "execution_count": null,
   "metadata": {},
   "outputs": [],
   "source": []
  },
  {
   "cell_type": "code",
   "execution_count": null,
   "metadata": {},
   "outputs": [],
   "source": []
  },
  {
   "cell_type": "code",
   "execution_count": null,
   "metadata": {},
   "outputs": [],
   "source": []
  }
 ],
 "metadata": {
  "kernelspec": {
   "display_name": "Python 3",
   "language": "python",
   "name": "python3"
  },
  "language_info": {
   "codemirror_mode": {
    "name": "ipython",
    "version": 3
   },
   "file_extension": ".py",
   "mimetype": "text/x-python",
   "name": "python",
   "nbconvert_exporter": "python",
   "pygments_lexer": "ipython3",
   "version": "3.6.9"
  }
 },
 "nbformat": 4,
 "nbformat_minor": 4
}
